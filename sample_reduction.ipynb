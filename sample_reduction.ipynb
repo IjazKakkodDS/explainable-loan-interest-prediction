{
 "cells": [
  {
   "cell_type": "code",
   "execution_count": 4,
   "id": "ffbdb235",
   "metadata": {},
   "outputs": [],
   "source": [
    "import pandas as pd\n",
    "\n",
    "df = pd.read_csv(\"data/interest_rate_df_engineered.csv\")\n",
    "sampled_df = df.sample(n=2000, random_state=42)  # Keep 2000 rows\n",
    "sampled_df.to_csv(\"data/interest_rate_df_engineered.csv\", index=False)"
   ]
  }
 ],
 "metadata": {
  "kernelspec": {
   "display_name": "loan-xai-env",
   "language": "python",
   "name": "python3"
  },
  "language_info": {
   "codemirror_mode": {
    "name": "ipython",
    "version": 3
   },
   "file_extension": ".py",
   "mimetype": "text/x-python",
   "name": "python",
   "nbconvert_exporter": "python",
   "pygments_lexer": "ipython3",
   "version": "3.10.16"
  }
 },
 "nbformat": 4,
 "nbformat_minor": 5
}
